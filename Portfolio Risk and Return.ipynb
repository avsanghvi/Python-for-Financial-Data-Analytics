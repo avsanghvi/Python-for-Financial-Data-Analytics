{
 "cells": [
  {
   "cell_type": "code",
   "execution_count": 26,
   "id": "e07d4d01",
   "metadata": {},
   "outputs": [],
   "source": [
    "import pandas as pd\n",
    "import numpy as np\n",
    "from scipy import stats\n",
    "import pandas_datareader.data as pdr\n",
    "import matplotlib.pyplot as plt\n",
    "%matplotlib inline\n",
    "import datetime as dt\n",
    "import yfinance as yf\n",
    "yf.pdr_override()"
   ]
  },
  {
   "cell_type": "markdown",
   "id": "9bd84c25",
   "metadata": {},
   "source": [
    "## Calculate return of portfolio with Scotiabank (25%), Enbridge(10%), Shopify(35%) and Dollarama(20%)."
   ]
  },
  {
   "cell_type": "markdown",
   "id": "4123b209",
   "metadata": {},
   "source": [
    "### Step 1: Adjucted closing prce for stocks."
   ]
  },
  {
   "cell_type": "code",
   "execution_count": 19,
   "id": "f36cd0ff",
   "metadata": {},
   "outputs": [
    {
     "name": "stdout",
     "output_type": "stream",
     "text": [
      "[*********************100%***********************]  4 of 4 completed\n"
     ]
    }
   ],
   "source": [
    "tickers = ['BNS','ENB','SHOP','DOL']\n",
    "start = dt.datetime(2022,1,1)\n",
    "data = pdr.get_data_yahoo(tickers,start)"
   ]
  },
  {
   "cell_type": "code",
   "execution_count": 31,
   "id": "dce3672b",
   "metadata": {},
   "outputs": [
    {
     "data": {
      "text/html": [
       "<div>\n",
       "<style scoped>\n",
       "    .dataframe tbody tr th:only-of-type {\n",
       "        vertical-align: middle;\n",
       "    }\n",
       "\n",
       "    .dataframe tbody tr th {\n",
       "        vertical-align: top;\n",
       "    }\n",
       "\n",
       "    .dataframe thead th {\n",
       "        text-align: right;\n",
       "    }\n",
       "</style>\n",
       "<table border=\"1\" class=\"dataframe\">\n",
       "  <thead>\n",
       "    <tr style=\"text-align: right;\">\n",
       "      <th></th>\n",
       "      <th>BNS</th>\n",
       "      <th>DOL</th>\n",
       "      <th>ENB</th>\n",
       "      <th>SHOP</th>\n",
       "    </tr>\n",
       "  </thead>\n",
       "  <tbody>\n",
       "    <tr>\n",
       "      <th>count</th>\n",
       "      <td>269.000000</td>\n",
       "      <td>269.000000</td>\n",
       "      <td>269.000000</td>\n",
       "      <td>269.000000</td>\n",
       "    </tr>\n",
       "    <tr>\n",
       "      <th>mean</th>\n",
       "      <td>58.054410</td>\n",
       "      <td>43.544640</td>\n",
       "      <td>40.905158</td>\n",
       "      <td>47.539877</td>\n",
       "    </tr>\n",
       "    <tr>\n",
       "      <th>std</th>\n",
       "      <td>7.900222</td>\n",
       "      <td>3.069441</td>\n",
       "      <td>2.231473</td>\n",
       "      <td>22.520220</td>\n",
       "    </tr>\n",
       "    <tr>\n",
       "      <th>min</th>\n",
       "      <td>45.572685</td>\n",
       "      <td>36.842422</td>\n",
       "      <td>35.067215</td>\n",
       "      <td>25.670000</td>\n",
       "    </tr>\n",
       "    <tr>\n",
       "      <th>25%</th>\n",
       "      <td>50.820087</td>\n",
       "      <td>41.208023</td>\n",
       "      <td>39.425610</td>\n",
       "      <td>33.389999</td>\n",
       "    </tr>\n",
       "    <tr>\n",
       "      <th>50%</th>\n",
       "      <td>58.175972</td>\n",
       "      <td>43.864006</td>\n",
       "      <td>40.970898</td>\n",
       "      <td>37.349998</td>\n",
       "    </tr>\n",
       "    <tr>\n",
       "      <th>75%</th>\n",
       "      <td>65.880516</td>\n",
       "      <td>46.319649</td>\n",
       "      <td>42.541485</td>\n",
       "      <td>57.951000</td>\n",
       "    </tr>\n",
       "    <tr>\n",
       "      <th>max</th>\n",
       "      <td>70.490768</td>\n",
       "      <td>48.849995</td>\n",
       "      <td>46.080143</td>\n",
       "      <td>136.313995</td>\n",
       "    </tr>\n",
       "  </tbody>\n",
       "</table>\n",
       "</div>"
      ],
      "text/plain": [
       "              BNS         DOL         ENB        SHOP\n",
       "count  269.000000  269.000000  269.000000  269.000000\n",
       "mean    58.054410   43.544640   40.905158   47.539877\n",
       "std      7.900222    3.069441    2.231473   22.520220\n",
       "min     45.572685   36.842422   35.067215   25.670000\n",
       "25%     50.820087   41.208023   39.425610   33.389999\n",
       "50%     58.175972   43.864006   40.970898   37.349998\n",
       "75%     65.880516   46.319649   42.541485   57.951000\n",
       "max     70.490768   48.849995   46.080143  136.313995"
      ]
     },
     "execution_count": 31,
     "metadata": {},
     "output_type": "execute_result"
    }
   ],
   "source": [
    "data.describe()"
   ]
  },
  {
   "cell_type": "code",
   "execution_count": 21,
   "id": "dd0704ff",
   "metadata": {},
   "outputs": [],
   "source": [
    "data = data[\"Adj Close\"]"
   ]
  },
  {
   "cell_type": "code",
   "execution_count": 22,
   "id": "55e1e2d1",
   "metadata": {},
   "outputs": [
    {
     "data": {
      "text/html": [
       "<div>\n",
       "<style scoped>\n",
       "    .dataframe tbody tr th:only-of-type {\n",
       "        vertical-align: middle;\n",
       "    }\n",
       "\n",
       "    .dataframe tbody tr th {\n",
       "        vertical-align: top;\n",
       "    }\n",
       "\n",
       "    .dataframe thead th {\n",
       "        text-align: right;\n",
       "    }\n",
       "</style>\n",
       "<table border=\"1\" class=\"dataframe\">\n",
       "  <thead>\n",
       "    <tr style=\"text-align: right;\">\n",
       "      <th></th>\n",
       "      <th>BNS</th>\n",
       "      <th>DOL</th>\n",
       "      <th>ENB</th>\n",
       "      <th>SHOP</th>\n",
       "    </tr>\n",
       "    <tr>\n",
       "      <th>Date</th>\n",
       "      <th></th>\n",
       "      <th></th>\n",
       "      <th></th>\n",
       "      <th></th>\n",
       "    </tr>\n",
       "  </thead>\n",
       "  <tbody>\n",
       "    <tr>\n",
       "      <th>2022-01-03 00:00:00-05:00</th>\n",
       "      <td>67.513481</td>\n",
       "      <td>47.436821</td>\n",
       "      <td>36.869778</td>\n",
       "      <td>136.313995</td>\n",
       "    </tr>\n",
       "    <tr>\n",
       "      <th>2022-01-04 00:00:00-05:00</th>\n",
       "      <td>67.598541</td>\n",
       "      <td>47.952438</td>\n",
       "      <td>36.625420</td>\n",
       "      <td>122.185997</td>\n",
       "    </tr>\n",
       "  </tbody>\n",
       "</table>\n",
       "</div>"
      ],
      "text/plain": [
       "                                 BNS        DOL        ENB        SHOP\n",
       "Date                                                                  \n",
       "2022-01-03 00:00:00-05:00  67.513481  47.436821  36.869778  136.313995\n",
       "2022-01-04 00:00:00-05:00  67.598541  47.952438  36.625420  122.185997"
      ]
     },
     "execution_count": 22,
     "metadata": {},
     "output_type": "execute_result"
    }
   ],
   "source": [
    "data.head(2)"
   ]
  },
  {
   "cell_type": "markdown",
   "id": "abc42593",
   "metadata": {},
   "source": [
    "### Step 2: Calculate log return for portfolio."
   ]
  },
  {
   "cell_type": "code",
   "execution_count": 23,
   "id": "a5756c82",
   "metadata": {},
   "outputs": [],
   "source": [
    "portfolio = [.25,.10,.35,.20]"
   ]
  },
  {
   "cell_type": "code",
   "execution_count": 29,
   "id": "64282f77",
   "metadata": {},
   "outputs": [],
   "source": [
    "Portfolio_Return = np.sum(np.log(data/data.shift())*portfolio, axis =1)"
   ]
  },
  {
   "cell_type": "code",
   "execution_count": 30,
   "id": "b864fc7c",
   "metadata": {},
   "outputs": [
    {
     "data": {
      "text/plain": [
       "Date\n",
       "2022-01-03 00:00:00-05:00    0.000000\n",
       "2022-01-04 00:00:00-05:00   -0.022815\n",
       "2022-01-05 00:00:00-05:00   -0.005259\n",
       "2022-01-06 00:00:00-05:00    0.005712\n",
       "2022-01-07 00:00:00-05:00    0.004057\n",
       "dtype: float64"
      ]
     },
     "execution_count": 30,
     "metadata": {},
     "output_type": "execute_result"
    }
   ],
   "source": [
    "Portfolio_Return.head()"
   ]
  },
  {
   "cell_type": "code",
   "execution_count": 32,
   "id": "dff5ed69",
   "metadata": {
    "scrolled": true
   },
   "outputs": [
    {
     "data": {
      "text/plain": [
       "<AxesSubplot:>"
      ]
     },
     "execution_count": 32,
     "metadata": {},
     "output_type": "execute_result"
    },
    {
     "data": {
      "image/png": "[encoded data removed]",
      "text/plain": [
       "<Figure size 432x288 with 1 Axes>"
      ]
     },
     "metadata": {
      "needs_background": "light"
     },
     "output_type": "display_data"
    }
   ],
   "source": [
    "fig,ax = plt.subplots()\n",
    "Portfolio_Return.hist(bins = 50, ax=ax)"
   ]
  },
  {
   "cell_type": "markdown",
   "id": "b4e41b5f",
   "metadata": {},
   "source": [
    "### Step 3: Calculate Daily and Annualized sharpe ratio."
   ]
  },
  {
   "cell_type": "code",
   "execution_count": 36,
   "id": "6fd06483",
   "metadata": {},
   "outputs": [],
   "source": [
    "M = Portfolio_Return.mean()"
   ]
  },
  {
   "cell_type": "code",
   "execution_count": 37,
   "id": "0516c49e",
   "metadata": {},
   "outputs": [],
   "source": [
    "S = Portfolio_Return.std()"
   ]
  },
  {
   "cell_type": "code",
   "execution_count": 41,
   "id": "de3259b1",
   "metadata": {},
   "outputs": [
    {
     "data": {
      "text/plain": [
       "-0.046938117005088785"
      ]
     },
     "execution_count": 41,
     "metadata": {},
     "output_type": "execute_result"
    }
   ],
   "source": [
    "Daily_Sharpe_Ratio = M/S\n",
    "Daily_Sharpe_Ratio"
   ]
  },
  {
   "cell_type": "code",
   "execution_count": 43,
   "id": "824487e6",
   "metadata": {},
   "outputs": [
    {
     "data": {
      "text/plain": [
       "-0.769842358361461"
      ]
     },
     "execution_count": 43,
     "metadata": {},
     "output_type": "execute_result"
    }
   ],
   "source": [
    "Annual_Sharpe_Ratio = Daily_Sharpe_Ratio*269**.5\n",
    "Annual_Sharpe_Ratio"
   ]
  }
 ],
 "metadata": {
  "kernelspec": {
   "display_name": "Python 3 (ipykernel)",
   "language": "python",
   "name": "python3"
  },
  "language_info": {
   "codemirror_mode": {
    "name": "ipython",
    "version": 3
   },
   "file_extension": ".py",
   "mimetype": "text/x-python",
   "name": "python",
   "nbconvert_exporter": "python",
   "pygments_lexer": "ipython3",
   "version": "3.9.12"
  }
 },
 "nbformat": 4,
 "nbformat_minor": 5
}
