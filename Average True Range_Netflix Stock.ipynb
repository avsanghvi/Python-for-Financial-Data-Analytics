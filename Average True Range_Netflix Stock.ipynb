{
 "cells": [
  {
   "cell_type": "code",
   "execution_count": 4,
   "id": "144b0b39",
   "metadata": {},
   "outputs": [],
   "source": [
    "import pandas as pd\n",
    "import numpy as np\n",
    "from scipy import stats\n",
    "import pandas_datareader.data as pdr\n",
    "import matplotlib.pyplot as plt\n",
    "%matplotlib inline\n",
    "import datetime as dt\n",
    "import yfinance as yf\n",
    "yf.pdr_override()"
   ]
  },
  {
   "cell_type": "code",
   "execution_count": 5,
   "id": "2a5e8a02",
   "metadata": {},
   "outputs": [
    {
     "name": "stdout",
     "output_type": "stream",
     "text": [
      "[*********************100%***********************]  1 of 1 completed\n"
     ]
    }
   ],
   "source": [
    "start = dt.datetime(2020,1,1)\n",
    "Data = pdr.get_data_yahoo(\"NFLX\",start)"
   ]
  },
  {
   "cell_type": "code",
   "execution_count": 6,
   "id": "93f2ddc1",
   "metadata": {},
   "outputs": [
    {
     "data": {
      "text/html": [
       "<div>\n",
       "<style scoped>\n",
       "    .dataframe tbody tr th:only-of-type {\n",
       "        vertical-align: middle;\n",
       "    }\n",
       "\n",
       "    .dataframe tbody tr th {\n",
       "        vertical-align: top;\n",
       "    }\n",
       "\n",
       "    .dataframe thead th {\n",
       "        text-align: right;\n",
       "    }\n",
       "</style>\n",
       "<table border=\"1\" class=\"dataframe\">\n",
       "  <thead>\n",
       "    <tr style=\"text-align: right;\">\n",
       "      <th></th>\n",
       "      <th>Open</th>\n",
       "      <th>High</th>\n",
       "      <th>Low</th>\n",
       "      <th>Close</th>\n",
       "      <th>Adj Close</th>\n",
       "      <th>Volume</th>\n",
       "    </tr>\n",
       "    <tr>\n",
       "      <th>Date</th>\n",
       "      <th></th>\n",
       "      <th></th>\n",
       "      <th></th>\n",
       "      <th></th>\n",
       "      <th></th>\n",
       "      <th></th>\n",
       "    </tr>\n",
       "  </thead>\n",
       "  <tbody>\n",
       "    <tr>\n",
       "      <th>2020-01-02 00:00:00-05:00</th>\n",
       "      <td>326.100006</td>\n",
       "      <td>329.980011</td>\n",
       "      <td>324.779999</td>\n",
       "      <td>329.809998</td>\n",
       "      <td>329.809998</td>\n",
       "      <td>4485800</td>\n",
       "    </tr>\n",
       "    <tr>\n",
       "      <th>2020-01-03 00:00:00-05:00</th>\n",
       "      <td>326.779999</td>\n",
       "      <td>329.859985</td>\n",
       "      <td>325.529999</td>\n",
       "      <td>325.899994</td>\n",
       "      <td>325.899994</td>\n",
       "      <td>3806900</td>\n",
       "    </tr>\n",
       "    <tr>\n",
       "      <th>2020-01-06 00:00:00-05:00</th>\n",
       "      <td>323.119995</td>\n",
       "      <td>336.359985</td>\n",
       "      <td>321.200012</td>\n",
       "      <td>335.829987</td>\n",
       "      <td>335.829987</td>\n",
       "      <td>5663100</td>\n",
       "    </tr>\n",
       "    <tr>\n",
       "      <th>2020-01-07 00:00:00-05:00</th>\n",
       "      <td>336.470001</td>\n",
       "      <td>336.700012</td>\n",
       "      <td>330.299988</td>\n",
       "      <td>330.750000</td>\n",
       "      <td>330.750000</td>\n",
       "      <td>4703200</td>\n",
       "    </tr>\n",
       "    <tr>\n",
       "      <th>2020-01-08 00:00:00-05:00</th>\n",
       "      <td>331.489990</td>\n",
       "      <td>342.700012</td>\n",
       "      <td>331.049988</td>\n",
       "      <td>339.260010</td>\n",
       "      <td>339.260010</td>\n",
       "      <td>7104500</td>\n",
       "    </tr>\n",
       "  </tbody>\n",
       "</table>\n",
       "</div>"
      ],
      "text/plain": [
       "                                 Open        High         Low       Close  \\\n",
       "Date                                                                        \n",
       "2020-01-02 00:00:00-05:00  326.100006  329.980011  324.779999  329.809998   \n",
       "2020-01-03 00:00:00-05:00  326.779999  329.859985  325.529999  325.899994   \n",
       "2020-01-06 00:00:00-05:00  323.119995  336.359985  321.200012  335.829987   \n",
       "2020-01-07 00:00:00-05:00  336.470001  336.700012  330.299988  330.750000   \n",
       "2020-01-08 00:00:00-05:00  331.489990  342.700012  331.049988  339.260010   \n",
       "\n",
       "                            Adj Close   Volume  \n",
       "Date                                            \n",
       "2020-01-02 00:00:00-05:00  329.809998  4485800  \n",
       "2020-01-03 00:00:00-05:00  325.899994  3806900  \n",
       "2020-01-06 00:00:00-05:00  335.829987  5663100  \n",
       "2020-01-07 00:00:00-05:00  330.750000  4703200  \n",
       "2020-01-08 00:00:00-05:00  339.260010  7104500  "
      ]
     },
     "execution_count": 6,
     "metadata": {},
     "output_type": "execute_result"
    }
   ],
   "source": [
    "Data.head()"
   ]
  },
  {
   "cell_type": "markdown",
   "id": "f2dc0639",
   "metadata": {},
   "source": [
    "## Calculate ATR for Netflix stock data.\n",
    "### Formula : TR = max[ High-Low,  | High-Close(Previous) |, | Low-Close(Previous) | ]"
   ]
  },
  {
   "cell_type": "code",
   "execution_count": 9,
   "id": "d6d15873",
   "metadata": {},
   "outputs": [],
   "source": [
    "high_low = Data[\"High\"] - Data[\"Low\"]\n",
    "high_cp = np.abs(Data[\"High\"]-Data[\"Close\"].shift())\n",
    "low_cp = np.abs(Data[\"Low\"]-Data[\"Close\"].shift())"
   ]
  },
  {
   "cell_type": "code",
   "execution_count": 35,
   "id": "fcd5eddf",
   "metadata": {},
   "outputs": [
    {
     "data": {
      "text/plain": [
       "Date\n",
       "2020-01-02 00:00:00-05:00     5.200012\n",
       "2020-01-03 00:00:00-05:00     4.329987\n",
       "2020-01-06 00:00:00-05:00    15.159973\n",
       "2020-01-07 00:00:00-05:00     6.400024\n",
       "2020-01-08 00:00:00-05:00    11.650024\n",
       "dtype: float64"
      ]
     },
     "execution_count": 35,
     "metadata": {},
     "output_type": "execute_result"
    }
   ],
   "source": [
    "high_low.head()"
   ]
  },
  {
   "cell_type": "markdown",
   "id": "6216b00a",
   "metadata": {},
   "source": [
    "### STEP 1: Calculate maximum volatility for True Range."
   ]
  },
  {
   "cell_type": "code",
   "execution_count": 15,
   "id": "8e9661cb",
   "metadata": {},
   "outputs": [],
   "source": [
    "TR = pd.concat([high_low,high_cp,low_cp],axis = 1)"
   ]
  },
  {
   "cell_type": "code",
   "execution_count": 18,
   "id": "f4a96824",
   "metadata": {},
   "outputs": [],
   "source": [
    "True_Range = np.max(TR, axis =1 )"
   ]
  },
  {
   "cell_type": "code",
   "execution_count": 20,
   "id": "0bd022b6",
   "metadata": {},
   "outputs": [
    {
     "data": {
      "text/plain": [
       "Date\n",
       "2020-01-02 00:00:00-05:00     5.200012\n",
       "2020-01-03 00:00:00-05:00     4.329987\n",
       "2020-01-06 00:00:00-05:00    15.159973\n",
       "2020-01-07 00:00:00-05:00     6.400024\n",
       "2020-01-08 00:00:00-05:00    11.950012\n",
       "dtype: float64"
      ]
     },
     "execution_count": 20,
     "metadata": {},
     "output_type": "execute_result"
    }
   ],
   "source": [
    "True_Range.head()"
   ]
  },
  {
   "cell_type": "markdown",
   "id": "356138a7",
   "metadata": {},
   "source": [
    "### Step 2: Calculate Average True Range with rolling period of 14."
   ]
  },
  {
   "cell_type": "code",
   "execution_count": 21,
   "id": "e9454138",
   "metadata": {},
   "outputs": [],
   "source": [
    "Average_true_range = True_Range.rolling(14).mean()"
   ]
  },
  {
   "cell_type": "code",
   "execution_count": 34,
   "id": "0356815f",
   "metadata": {},
   "outputs": [
    {
     "data": {
      "text/plain": [
       "Date\n",
       "2020-01-23 00:00:00-05:00    10.414289\n",
       "2020-01-24 00:00:00-05:00    11.102862\n",
       "2020-01-27 00:00:00-05:00    10.887150\n",
       "2020-01-28 00:00:00-05:00    11.117148\n",
       "2020-01-29 00:00:00-05:00    11.038576\n",
       "2020-01-30 00:00:00-05:00    11.048575\n",
       "dtype: float64"
      ]
     },
     "execution_count": 34,
     "metadata": {},
     "output_type": "execute_result"
    }
   ],
   "source": [
    "Average_true_range.iloc[14:20]"
   ]
  },
  {
   "cell_type": "markdown",
   "id": "1f1e0a3a",
   "metadata": {},
   "source": [
    "### Step3: Plot Average True range and compare it with close price of day."
   ]
  },
  {
   "cell_type": "code",
   "execution_count": 28,
   "id": "2eb8ed89",
   "metadata": {
    "scrolled": true
   },
   "outputs": [
    {
     "data": {
      "text/plain": [
       "Text(0, 0.5, 'Price')"
      ]
     },
     "execution_count": 28,
     "metadata": {},
     "output_type": "execute_result"
    },
    {
     "data": {
      "image/png": "[encoded data removed]",
      "text/plain": [
       "<Figure size 432x288 with 2 Axes>"
      ]
     },
     "metadata": {
      "needs_background": "light"
     },
     "output_type": "display_data"
    }
   ],
   "source": [
    "fig,ax = plt.subplots()\n",
    "Average_true_range.plot(ax=ax)\n",
    "ax2 = Data[\"Close\"].plot(ax=ax, secondary_y = True, alpha =.7)\n",
    "ax.set_ylabel(\"ATR\")\n",
    "ax2.set_ylabel(\"Price\")"
   ]
  },
  {
   "cell_type": "code",
   "execution_count": null,
   "id": "9c2d8218",
   "metadata": {},
   "outputs": [],
   "source": []
  }
 ],
 "metadata": {
  "kernelspec": {
   "display_name": "Python 3 (ipykernel)",
   "language": "python",
   "name": "python3"
  },
  "language_info": {
   "codemirror_mode": {
    "name": "ipython",
    "version": 3
   },
   "file_extension": ".py",
   "mimetype": "text/x-python",
   "name": "python",
   "nbconvert_exporter": "python",
   "pygments_lexer": "ipython3",
   "version": "3.9.12"
  }
 },
 "nbformat": 4,
 "nbformat_minor": 5
}
